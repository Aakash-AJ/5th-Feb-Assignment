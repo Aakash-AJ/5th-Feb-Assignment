{
 "cells": [
  {
   "cell_type": "code",
   "execution_count": null,
   "id": "5938c0b0-de21-4650-98b0-97bcbf8db3d1",
   "metadata": {},
   "outputs": [],
   "source": [
    "#Q1. Explain Class and Object with respect to Object-Oriented Programming. Give a suitable example.\n",
    "Ans: Objects-Objects have states and behaviors. An object is an instance of a class. \n",
    "     Class − A class can be defined as a template/blueprint \n",
    "     that describes the behavior/state that the object of its type support.\n",
    "        \n",
    " "
   ]
  },
  {
   "cell_type": "code",
   "execution_count": 66,
   "id": "789205f8-e91c-406f-a9c1-497a32e725da",
   "metadata": {},
   "outputs": [],
   "source": [
    "#For Example Q1 :\n",
    "class Myclass:\n",
    "        \n",
    "        def welcome():\n",
    "            print(\"welcome to class\")"
   ]
  },
  {
   "cell_type": "code",
   "execution_count": 67,
   "id": "6993dab0-43d1-45bf-929a-e1ae678fb40a",
   "metadata": {},
   "outputs": [],
   "source": [
    " Akash = Myclass"
   ]
  },
  {
   "cell_type": "code",
   "execution_count": 68,
   "id": "cb86f302-b317-4d2f-a899-e8e7f8004c9e",
   "metadata": {},
   "outputs": [
    {
     "name": "stdout",
     "output_type": "stream",
     "text": [
      "welcome to class\n"
     ]
    }
   ],
   "source": [
    "Akash.welcome()"
   ]
  },
  {
   "cell_type": "code",
   "execution_count": null,
   "id": "e954b9e9-6a4c-41d9-9bcf-c9f960b0f0a2",
   "metadata": {},
   "outputs": [],
   "source": [
    "#Q2. Name the four pillars of OOPs.\n",
    "Ans: The four pillars are Inheritance, Polymorphism, Encapsulation and Abstraction"
   ]
  },
  {
   "cell_type": "code",
   "execution_count": null,
   "id": "8d726ea5-496d-4589-b4e1-56585182d09b",
   "metadata": {},
   "outputs": [],
   "source": [
    "Q.3 :Explain why the __init__() function is used. Give a suitable example.\n",
    "Ans : All classes have a function called __init__(), which is always executed when the class is\n",
    "being initiated. Use the __init__() function to assign values to object properties,\n",
    "or other operations that are necessary to do when the object is being . In simple word The self\n",
    "parameter is a reference to the current instance of the class,\n",
    "and is used to access variables that belong to the class."
   ]
  },
  {
   "cell_type": "code",
   "execution_count": 47,
   "id": "deb664ab-8ec3-47cd-a4ed-42f8b08c272a",
   "metadata": {},
   "outputs": [],
   "source": [
    "#For example Q3:\n",
    "\n",
    "class Aakash:\n",
    "    \n",
    "    def __init__(self, Age , height, weight):\n",
    "        self.Age = Age\n",
    "        self.height = height\n",
    "        self.weight = weight\n",
    "        \n",
    "    def Aakash_details(self):\n",
    "        \n",
    "        return self.Age,self.height,self.weight\n",
    "    \n",
    "  \n",
    "    \n",
    "    "
   ]
  },
  {
   "cell_type": "code",
   "execution_count": 49,
   "id": "cfc02d83-e394-44ee-9dd0-4bd46ce88eda",
   "metadata": {},
   "outputs": [],
   "source": [
    "A = Aakash(21,5.5,71)  "
   ]
  },
  {
   "cell_type": "code",
   "execution_count": 50,
   "id": "68425b8d-dade-494d-b449-9e427f4d5135",
   "metadata": {},
   "outputs": [
    {
     "data": {
      "text/plain": [
       "(21, 5.5, 71)"
      ]
     },
     "execution_count": 50,
     "metadata": {},
     "output_type": "execute_result"
    }
   ],
   "source": [
    "A.Aakash_details()"
   ]
  },
  {
   "cell_type": "code",
   "execution_count": null,
   "id": "5b7c63a8-bf55-4161-b976-4f424adf4eea",
   "metadata": {},
   "outputs": [],
   "source": [
    "#Q.4 : Why self is used in OOPs?\n",
    "Ans. The self variable is used to represent the instance of the class which is often used \n",
    "in object-oriented programming. It works as a reference to the object. \n",
    "Python uses the self parameter to refer to instance attributes and methods of the class."
   ]
  },
  {
   "cell_type": "code",
   "execution_count": null,
   "id": "8e8d70c2-7812-4da2-8982-963b476b5e32",
   "metadata": {},
   "outputs": [],
   "source": [
    "Q.5 : What is inheritance? Give an example for each type of inheritance.\n",
    "Ans.Inheritance is a mechanism in which one class acquires the property of another class.\n",
    "For example, a child inherits the traits of his/her parents. With inheritance,\n",
    "we can reuse the fields and methods of the existing class. Hence, \n",
    "inheritance facilitates Reusability and is an important concept of OOPs."
   ]
  },
  {
   "cell_type": "code",
   "execution_count": 69,
   "id": "9ce117ce-7c1a-4c86-bdba-d8b8f31499c3",
   "metadata": {},
   "outputs": [
    {
     "name": "stdout",
     "output_type": "stream",
     "text": [
      "This function is in parent class.\n",
      "This function is in child class.\n"
     ]
    }
   ],
   "source": [
    "# For example Q5 :\n",
    "\n",
    "# Python program to demonstrate\n",
    "# single inheritance\n",
    "\n",
    "# Base class\n",
    "class Parent:\n",
    "\tdef func1(self):\n",
    "\t\tprint(\"This function is in parent class.\")\n",
    "\n",
    "# Derived class\n",
    "\n",
    "\n",
    "class Child(Parent):\n",
    "\tdef func2(self):\n",
    "\t\tprint(\"This function is in child class.\")\n",
    "\n",
    "\n",
    "# Driver's code\n",
    "object = Child()\n",
    "object.func1()\n",
    "object.func2()"
   ]
  },
  {
   "cell_type": "code",
   "execution_count": null,
   "id": "9739520e-4234-4276-8d4d-65905b8d98d8",
   "metadata": {},
   "outputs": [],
   "source": []
  }
 ],
 "metadata": {
  "kernelspec": {
   "display_name": "Python 3 (ipykernel)",
   "language": "python",
   "name": "python3"
  },
  "language_info": {
   "codemirror_mode": {
    "name": "ipython",
    "version": 3
   },
   "file_extension": ".py",
   "mimetype": "text/x-python",
   "name": "python",
   "nbconvert_exporter": "python",
   "pygments_lexer": "ipython3",
   "version": "3.10.8"
  }
 },
 "nbformat": 4,
 "nbformat_minor": 5
}
